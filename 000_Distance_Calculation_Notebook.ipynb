{
 "cells": [
  {
   "cell_type": "code",
   "execution_count": 22,
   "id": "c8c3fcd6",
   "metadata": {},
   "outputs": [
    {
     "name": "stdout",
     "output_type": "stream",
     "text": [
      "Distance to line(left): 1.6955100822242166 m\n",
      "[25.21, 0.66, 25.198991424505184, 2.3554743437131527, 1.6955100822242166]\n"
     ]
    },
    {
     "data": {
      "image/png": "[encoded data removed]",
      "text/plain": [
       "<Figure size 432x288 with 1 Axes>"
      ]
     },
     "metadata": {
      "needs_background": "light"
     },
     "output_type": "display_data"
    }
   ],
   "source": [
    "import numpy as np\n",
    "import shapely.geometry as geom\n",
    "from shapely.geometry import Point\n",
    "import matplotlib.pyplot as plt\n",
    "\n",
    "class NearestPoint(object):\n",
    "    def __init__(self, left_line, right_line, ax):\n",
    "        self.left_line = left_line\n",
    "        self.right_line = right_line\n",
    "        self.ax = ax\n",
    "        ax.figure.canvas.mpl_connect('button_press_event', self)\n",
    "\n",
    "    def __call__(self, xy_point, side, point_on_lane):\n",
    "        assert side == 'left' or side == 'right', 'Type among left or right'\n",
    "        distance = self.left_line.distance(xy_point)\n",
    "        print(f'Distance to line({side}):', distance, 'm')\n",
    "        \n",
    "        instant_resultList = [point_on_lane.y, -point_on_lane.x, distance]\n",
    "        return instant_resultList\n",
    "            \n",
    "    def draw_segment(self, object_list):\n",
    "        resultList = []\n",
    "        objectList = []\n",
    "        # determine the points whether those are at the left side or right side.\n",
    "        for i in object_list:\n",
    "            if i[0] <= 0:\n",
    "                left_point_list.append(Point(i[0], i[1]))\n",
    "            else:\n",
    "                right_point_list.append(Point(i[0], i[1]))\n",
    "        # Draw the lateral lane about the left objects\n",
    "        for point in left_point_list:\n",
    "            point_on_line = self.left_line.interpolate(self.left_line.project(point))\n",
    "            self.ax.plot([point.x, point_on_line.x], [point.y, point_on_line.y], \n",
    "                     color='red', marker='o', scalex=False, scaley=False)\n",
    "            fig.canvas.draw()\n",
    "            # get the distance in meter unit\n",
    "            resultList = resultList + [point.y, -point.x] + self.__call__(point, 'left', point_on_line)\n",
    "        # Draw the lateral lane about the right objects\n",
    "        for point in right_point_list:\n",
    "            point_on_line = self.right_line.interpolate(self.right_line.project(point))\n",
    "            self.ax.plot([point.x, point_on_line.x], [point.y, point_on_line.y], \n",
    "                     color='red', marker='o', scalex=False, scaley=False)\n",
    "            fig.canvas.draw()\n",
    "            # get the distance in meter unit\n",
    "            resultList = resultList + [point.y, -point.x] + self.__call__(point, 'right', point_on_line)\n",
    "        \n",
    "        return resultList\n",
    "\n",
    "\n",
    "if __name__ == '__main__':\n",
    "    # get the path of 3D points on lanes\n",
    "    l_coords = np.loadtxt('/home/kaai/chicago_ws/src/CSV_Communication/left_lane.txt')\n",
    "    r_coords = np.loadtxt('/home/kaai/chicago_ws/src/CSV_Communication/right_lane.txt')\n",
    "    left_line = geom.LineString(l_coords)\n",
    "    right_line = geom.LineString(r_coords)\n",
    "    \n",
    "    # define object locations\n",
    "    object_list = [[-0.66, 25.21],[-7.22, 38.47], [-4.43, 50.24]]\n",
    "    left_point_list = []\n",
    "    right_point_list = []\n",
    "    max_point = float(l_coords[l_coords.shape[0] - 1][1]) # indicate the maximum value from lane equation\n",
    "    # remove the object point which has bigger value than the maximum point\n",
    "    for i in range(len(object_list)):\n",
    "        if object_list[i][1] > max_point:\n",
    "            del object_list[i:]\n",
    "            break\n",
    "\n",
    "    # Plotting Section\n",
    "    fig, ax = plt.subplots()\n",
    "    ax.plot(*l_coords.T)\n",
    "    ax.plot(*r_coords.T)\n",
    "    ax.axis('equal')\n",
    "    # Set the frame\n",
    "    ax.set_xlim(-10, 10)\n",
    "    ax.set_ylim(-1, 45)\n",
    "    \n",
    "    # Make the class\n",
    "    distance_class = NearestPoint(left_line, right_line, ax)\n",
    "    # result = [x_value_on_lane, y_value_on_lane, distance]\n",
    "    result = distance_class.draw_segment(object_list)\n",
    "    \n",
    "    print(result)\n",
    "    \n",
    "    plt.show()"
   ]
  },
  {
   "cell_type": "code",
   "execution_count": null,
   "id": "45e2694a",
   "metadata": {},
   "outputs": [],
   "source": []
  },
  {
   "cell_type": "code",
   "execution_count": 2,
   "id": "66ee2af5",
   "metadata": {},
   "outputs": [],
   "source": [
    "import numpy as np\n",
    "\n",
    "prac_l = np.loadtxt('/home/kaai/chicago_ws/src/CSV_Communication/left_lane.txt')\n",
    "prac_r = np.loadtxt('/home/kaai/chicago_ws/src/CSV_Communication/right_lane.txt')"
   ]
  },
  {
   "cell_type": "code",
   "execution_count": 8,
   "id": "c5043c22",
   "metadata": {},
   "outputs": [
    {
     "name": "stdout",
     "output_type": "stream",
     "text": [
      "[0.0, 1.0, 2.0, 3.0, 4.0, 5.0, 6.0, 7.0, 8.0, 9.0, 10.0, 11.0, 12.0, 13.0, 14.0, 15.0, 16.0, 17.0, 18.0, 19.0, 20.0, 21.0, 22.0, 23.0, 24.0, 25.0, 26.0, 27.0, 28.0, 29.0, 30.0, 31.0, 32.0, 33.0, 34.0, 35.0, 36.0, 37.0, 38.0]\n",
      "[2.3410404240722698, 2.336057875721889, 2.3315343460163223, 2.3274698349555694, 2.3238643425396304, 2.3207178687685053, 2.3180304136421936, 2.3158019771606964, 2.314032559324013, 2.312722160132143, 2.311870779585087, 2.311478417682845, 2.311545074425417, 2.312070749812803, 2.3130554438450024, 2.3144991565220154, 2.316401887843843, 2.318763637810484, 2.321584406421939, 2.324864193678208, 2.3286029995792905, 2.3328008241251874, 2.3374576673158978, 2.342573529151422, 2.34814840963176, 2.3541823087569123, 2.3606752265268782, 2.3676271629416576, 2.3750381180012514, 2.382908091705659, 2.3912370840548802, 2.4000250950489153, 2.4092721246877646, 2.4189781729714275, 2.429143239899904, 2.439767325473195, 2.4508504296912994, 2.462392552554218, 2.47439369406195]\n",
      "[0.0, 1.0, 2.0, 3.0, 4.0, 5.0, 6.0, 7.0, 8.0, 9.0, 10.0, 11.0, 12.0, 13.0, 14.0, 15.0, 16.0, 17.0, 18.0, 19.0, 20.0, 21.0, 22.0, 23.0, 24.0, 25.0, 26.0, 27.0, 28.0, 29.0, 30.0, 31.0, 32.0, 33.0, 34.0, 35.0, 36.0, 37.0, 38.0]\n",
      "[-2.2894339394472394, -2.270126919815131, -2.2515597374576095, -2.2337323923746752, -2.2166448845663282, -2.2002972140325685, -2.184689380773395, -2.1698213847888095, -2.1556932260788106, -2.142304904643399, -2.1296564204825743, -2.117747773596337, -2.1065789639846866, -2.096149991647623, -2.086460856585147, -2.0775115587972577, -2.0693020982839556, -2.061832475045241, -2.055102689081113, -2.049112740391572, -2.0438626289766186, -2.039352354836252, -2.0355819179704726, -2.03255131837928, -2.0302605560626747, -2.0287096310206563, -2.027898543253225, -2.027827292760381, -2.0284958795421244, -2.0299043035984545, -2.0320525649293715, -2.034940663534876, -2.038568599414967, -2.042936372569646, -2.0480439829989114, -2.0538914307027643, -2.060478715681204, -2.067805837934231, -2.0758727974618445]\n"
     ]
    }
   ],
   "source": [
    "left_lane_equat_point_x = []\n",
    "left_lane_equat_point_y = []\n",
    "right_lane_equat_point_x = []\n",
    "right_lane_equat_point_y = []\n",
    "\n",
    "for i in prac_l:\n",
    "    left_lane_equat_point_x.append(i[1])\n",
    "    left_lane_equat_point_y.append(-i[0])\n",
    "for i in prac_r:\n",
    "    right_lane_equat_point_x.append(i[1])\n",
    "    right_lane_equat_point_y.append(-i[0])\n",
    "    \n",
    "print(left_lane_equat_point_x)\n",
    "print(left_lane_equat_point_y)\n",
    "print(right_lane_equat_point_x)\n",
    "print(right_lane_equat_point_y)\n",
    "        "
   ]
  },
  {
   "cell_type": "code",
   "execution_count": null,
   "id": "62375cb7",
   "metadata": {},
   "outputs": [],
   "source": []
  }
 ],
 "metadata": {
  "kernelspec": {
   "display_name": "Python 3 (ipykernel)",
   "language": "python",
   "name": "python3"
  },
  "language_info": {
   "codemirror_mode": {
    "name": "ipython",
    "version": 3
   },
   "file_extension": ".py",
   "mimetype": "text/x-python",
   "name": "python",
   "nbconvert_exporter": "python",
   "pygments_lexer": "ipython3",
   "version": "3.8.12"
  }
 },
 "nbformat": 4,
 "nbformat_minor": 5
}
